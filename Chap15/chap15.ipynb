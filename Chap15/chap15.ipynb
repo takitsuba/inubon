{
 "cells": [
  {
   "cell_type": "markdown",
   "metadata": {
    "slideshow": {
     "slide_type": "slide"
    }
   },
   "source": [
    "# 第15章 一般化線形モデルの概略"
   ]
  },
  {
   "cell_type": "markdown",
   "metadata": {
    "slideshow": {
     "slide_type": "slide"
    }
   },
   "source": [
    "## はじめに\n",
    "- ここまで、ベイズ分析の基本概念を学んで来た。\n",
    "- 本章では、モデルに関するフレームワークについて学ぶ。"
   ]
  },
  {
   "cell_type": "markdown",
   "metadata": {
    "slideshow": {
     "slide_type": "slide"
    }
   },
   "source": [
    "## 15.1. 変数のタイプ\n",
    "### 15.1.1.  予測変数と被予測変数\n",
    "- 身長から体重を予測したい\n",
    "    - 被予測変数(従属変数)：体重\n",
    "    - 予測変数(独立変数)：身長\n",
    "- 尤度関数は、予測変数の値の関数で、被予測変数の値の確率を表している\n",
    "- 「予測」は因果を意味していないし、「予測」は変数間に、時間的関係があることを意味している訳ではない\n",
    "    - 人の「性別」を身長から予測することはできるが、「性別」が「身長」よりも時間的に後に起こった訳ではない。\n",
    "- ベイジアン分析に置いて、はじめに「解析に関連するデータを特定すること」、「どの変数が予測変数で、どの変数が被予測変数なのか決めること」が大事である"
   ]
  },
  {
   "cell_type": "markdown",
   "metadata": {
    "slideshow": {
     "slide_type": "slide"
    }
   },
   "source": [
    "### 15.1.2. スケールの種類：量的、順序、名義、カウント\n",
    "- 量的スケール\n",
    "    - 比率尺度:自然に決まる「ゼロ」点を持つ尺度\n",
    "        - 応答時間、温度、身長、体重など\n",
    "    - 間隔尺度：ゼロ点を持たないスケール\n",
    "        - 日付など\n",
    "- カウントデータ\n",
    "    - 量的スケールの1つの特殊な場合\n",
    "    - 非負の整数。連続的でないため、連続な実数値の量的データとは異なる。\n",
    "- 順序スケール\n",
    "    - レースの順位、賛成の程度の評価\n",
    "    - 順序スケールに距離や量的な情報はない\n",
    "- 名義スケール（カテゴリカルスケール）\n",
    "    - カテゴリ間の距離もなければ順序もない"
   ]
  },
  {
   "cell_type": "markdown",
   "metadata": {
    "slideshow": {
     "slide_type": "slide"
    }
   },
   "source": [
    "- 2つの異なる名義値の場合\n",
    "    - 2つの項目が違う\n",
    "- 2つの異なる順序値の場合\n",
    "    - 2つの項目が違うこと、どちらがより大きいのかはわかる\n",
    "- 2つの量的な値の場合\n",
    "    - 2つの項目が違うこと、どちらがより大きいか、どれくらい大きいか、はわかる"
   ]
  },
  {
   "cell_type": "markdown",
   "metadata": {
    "slideshow": {
     "slide_type": "slide"
    }
   },
   "source": [
    "- なぜスケールを気にするのか？\n",
    "    - データに対するモデルを選択するときに、どのようなスケールなのかが重要だから。\n",
    "        - 2つの名義値なら、ベルヌーイ尤度関数…？\n",
    "        - 量的なら、正規分布…？"
   ]
  },
  {
   "cell_type": "markdown",
   "metadata": {
    "slideshow": {
     "slide_type": "slide"
    }
   },
   "source": [
    "## 15.2. 予測変数の線形結合\n",
    "- GLMは予測変数の結合効果を、それらの加重和として表現している。\n",
    "\n",
    "### 15.2.1. 単一の量的予測変数の線形関数\n",
    "- モデリングの流れの一例\n",
    "    - 被予測変数1つ(y)と、予測変数1つ(x)を決める\n",
    "    - x,yは量的変数であると判断する\n",
    "    - x,yの関係をどのようにモデル化するか、を考える\n",
    "- もっとも基本的、単純な依存関係は、線形関係。\n",
    "- 線形関数\n",
    "    - 比例関係を有している\n",
    "        - 入力を2倍にしたら、出力は2倍\n",
    "- 非線形関数\n",
    "    - 比例関係を有していない\n",
    "- 現実世界の依存関係の多くは非線形であるが、ほとんどが変数の適度な範囲場で少なくともほぼ線形"
   ]
  },
  {
   "cell_type": "markdown",
   "metadata": {
    "slideshow": {
     "slide_type": "slide"
    }
   },
   "source": [
    "- 1つの変数を持つ線形関数の一般式は\n",
    "    $$ y = \\beta_0 + \\beta_1 x $$\n",
    "- このような変換をアフィン変換と呼ぶ。\n",
    "- $\\beta_0 \\not= 0$の時、比例関係を有していないが、それでも$y$の増加率は、$x$の全ての値に対して等しい。$x$が$1$増加すれば、$y$は$\\beta_1$増加する\n",
    "- また、$x,y$の一方を移動することで比例が成立するようにすることができる\n",
    "    $$ y^* = y - \\beta_0 = \\beta_1 x$$\n",
    "    $$"
   ]
  },
  {
   "cell_type": "code",
   "execution_count": null,
   "metadata": {},
   "outputs": [],
   "source": []
  }
 ],
 "metadata": {
  "celltoolbar": "Slideshow",
  "kernelspec": {
   "display_name": "Python 3",
   "language": "python",
   "name": "python3"
  },
  "language_info": {
   "codemirror_mode": {
    "name": "ipython",
    "version": 3
   },
   "file_extension": ".py",
   "mimetype": "text/x-python",
   "name": "python",
   "nbconvert_exporter": "python",
   "pygments_lexer": "ipython3",
   "version": "3.6.6"
  }
 },
 "nbformat": 4,
 "nbformat_minor": 2
}
