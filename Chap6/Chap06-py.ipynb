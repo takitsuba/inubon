{
 "cells": [
  {
   "cell_type": "markdown",
   "metadata": {
    "slideshow": {
     "slide_type": "slide"
    }
   },
   "source": [
    "# 第6章 正確な数学的分析による二項確率の推論"
   ]
  },
  {
   "cell_type": "code",
   "execution_count": 2,
   "metadata": {
    "ExecuteTime": {
     "end_time": "2017-09-08T08:55:01.824417Z",
     "start_time": "2017-09-08T08:55:01.813387Z"
    },
    "slideshow": {
     "slide_type": "skip"
    }
   },
   "outputs": [
    {
     "data": {
      "text/html": [
       "<!--\n",
       "<link rel=\"stylesheet\" type=\"text/css\" href=\"custom.css\">\n",
       "-->"
      ],
      "text/plain": [
       "<IPython.core.display.HTML object>"
      ]
     },
     "metadata": {},
     "output_type": "display_data"
    }
   ],
   "source": [
    "%%html\n",
    "<!--\n",
    "<link rel=\"stylesheet\" type=\"text/css\" href=\"custom.css\">\n",
    "-->"
   ]
  },
  {
   "cell_type": "markdown",
   "metadata": {
    "slideshow": {
     "slide_type": "slide"
    }
   },
   "source": [
    "- 本章では、近似値を一切使わずに純粋な解析を用いてベイズ推論を行う方法を紹介する。2つの理由で重要。\n",
    " 1. 数学は比較的単純だが、\n",
    "   - 連続パラメータに対するベイズ推論の基本的な概念を明示している\n",
    "   - 何が近似しているのかについて明確な感覚を与える\n",
    " 2. 紹介されるベータ分布は後の章でも繰り返し用いられる\n",
    "- ただ6.5に記載はあるが、現実にはこのアプローチを用いることは難しい。そのためMCMC法を用いることになる。（7章以降）"
   ]
  },
  {
   "cell_type": "markdown",
   "metadata": {
    "slideshow": {
     "slide_type": "slide"
    }
   },
   "source": [
    "## コイン投げ\n",
    "* 本章でもコイン投げの例を用いる\n",
    "- 表 or 裏\n",
    " - 名義的 => 2つの値は、順序や計量的な関係を持たない\n",
    " - 相互排他的 => 表か裏のどちらかで、両方とかどちらでも無いとかはない\n",
    " * 観測されたデータはそれぞれ独立していると仮定\n",
    " - 確率が時間を通じて変動しないと仮定"
   ]
  },
  {
   "cell_type": "markdown",
   "metadata": {
    "slideshow": {
     "slide_type": "subslide"
    }
   },
   "source": [
    "* いらない\n",
    "- 裏が y=0 とか、表が y=1 とかは都合がいいように決めているだけです\n",
    "  - 2つの名義的な値(裏、表)があるので以下のように呼ばれます：\n",
    "    - 2値の\n",
    "    - 2段階で名義的な\n",
    "    - 二項\n",
    "- y=0,y=1は、数字で表しているけれど、名義尺度 (多分)\n",
    " - 表が偉くて、裏が残念てことはない、\n",
    " - 「表や裏は単にカテゴリであり計量属性ではない」(p112)\n",
    "   - Rでのファクタ型 !? \n",
    " <img width=\"50%\" src=\"http://bellcurve.jp/statistics/wp-body/wp-content/uploads/2016/03/fbd9782912af332ea3065d7e5e86c498.png\">"
   ]
  },
  {
   "cell_type": "markdown",
   "metadata": {
    "ExecuteTime": {
     "end_time": "2017-09-01T06:56:17.200680Z",
     "start_time": "2017-09-01T06:56:17.194664Z"
    },
    "slideshow": {
     "slide_type": "slide"
    }
   },
   "source": [
    "- コイン投げの応用\n",
    " - 薬品の成功率\n",
    " - 試験の正解率\n",
    " - 左利きと右利きである確率\n",
    " - バスケットボールのフリースローの成功率\n",
    " - 赤ん坊が女の子である確率\n",
    " - 心臓手術を受けた患者の一年間生存率"
   ]
  },
  {
   "cell_type": "markdown",
   "metadata": {
    "slideshow": {
     "slide_type": "slide"
    }
   },
   "source": [
    "* ベイジアン分析の流れ\n",
    "    1. コインの表の生じうる確率に関する確信度の事前分布の割り当て\n",
    "    2. コイン投げの結果で構成されるいくつかのデータの観測\n",
    "    3. ベイズの公式を用いて確信度の事後分布を推論する\n",
    "        * ベイズの公式には尤度関数の指定が必要"
   ]
  },
  {
   "cell_type": "markdown",
   "metadata": {
    "slideshow": {
     "slide_type": "slide"
    }
   },
   "source": [
    "## 6.1 尤度関数：ベルヌーイ分布\n",
    "* この節ではベルヌーイ分布とベルヌーイ尤度関数、という2つのキーワードが出てくるので注意\n",
    "* ベルヌーイ分布の式\n",
    "$$\n",
    "p(y|\\theta) = \\theta^y(1-\\theta)^{(1-y)}\n",
    "$$\n",
    "- 1回の試行で\n",
    " - 表(y=1)が出る確率が、$\\theta$\n",
    " - 裏(y=0)が出る確率が、$1-\\theta$\n",
    "* 例えば$\\theta=0.25$なら、\n",
    " - 表(y=1)が出る確率が、$0.25$\n",
    " - 裏(y=0)が出る確率が、$0.75$\n",
    "* ベルヌーイ分布では、$\\theta$を固定し、その時の$y$の確率を考える"
   ]
  },
  {
   "cell_type": "markdown",
   "metadata": {},
   "source": [
    "* ベルヌーイ尤度関数について考える\n",
    "- ベイズ推論において、関数 $p(y|\\theta)$ は通常、データ$y$が明確で固定されたもの、** $\\theta$を不明確で変動するパラメータ**としてみなす\n",
    "* コインを$N$回投げ、$i$回目のコイン投げの結果を$y_i$、1組の結果を$\\{y_i\\}$とすると、その式は、（6.2,p129を変更）\n",
    " $$\n",
    " \\begin{align}\n",
    " p(y_1y_2\\dots y_N|\\theta) \n",
    " &=p(y_1|\\theta)p(y_2|\\theta)\\dots p(y_N|\\theta) \\\\\n",
    " &=\\theta^{y_1}(1-\\theta)^{(1-y_1)}\\theta^{y_2}(1-\\theta)^{(1-y_2)} \\dots \\theta^{y_N}(1-\\theta)^{(1-y_N)} \\\\\n",
    " &=\\theta^{y_1+y_2+ \\dots+ y_N}(1-\\theta)^{(N-y_1-y_2- \\dots -y_N)} \\\\\n",
    " &=\\theta^{z}(1-\\theta)^{(N-z)}\n",
    " \\end{align}\n",
    " $$\n",
    "* 上の$z$はコインの表の数\n",
    "* 例えば、コインを2回投げ、$\\{y_i\\}=\\{1,0\\}$だったとすると\n",
    " $$\n",
    " \\begin{align}\n",
    " p(\\{1\\}|\\theta) \n",
    " &=\\theta^{1}(1-\\theta)^{(2-1)} \\\\\n",
    " &=\\theta(1-\\theta)\n",
    " \\end{align}\n",
    " $$\n",
    "* $p(\\{1,0\\}|\\theta)$が最大の値となるのは、$\\theta=0.5$のとき。\n",
    "* ベルヌーイ分布の時は$\\theta$を先に固定して$y$を考えていたのに対し、ベルヌーイ尤度関数は$y_i$を先に固定して、$\\theta$を考えている"
   ]
  },
  {
   "cell_type": "markdown",
   "metadata": {},
   "source": [
    "## 6.2. 確信度の記述：ベータ分布\n",
    "* パラメータ値の事後分布の確信度を求める。\n",
    "    * [0,1]の区間でのパラメータ$\\theta$のそれぞれの値に関する事前確率を説明する数式が必要。\n",
    "* 本質的には[0,1]の区間の確率密度関数であれば用いることができるが、次の性質があると便利。\n",
    "    1. ベイズの公式の分子である$p(y|\\theta)$と$p(\\theta)$の積が$p(\\theta)$と同じ形の関数であること\n",
    "        * 事前確率と事後確率が同じ形の関数で記述され、その後にさらなるデータを入れて次の事後分布の形を導出しても、常に同じ形の関数になる。\n",
    "    2. ベイズの公式における分布、$\\int d\\theta p(y|\\theta) p(\\theta)$を解析的に解けるような形であること\n",
    "* 事後分布が事前分布と同じ形になるように$p(y|\\theta)$と$p(\\theta)$が結合すると、$p(\\theta)$は$p(y|\\theta)$の共役事前分布と呼ばれる"
   ]
  },
  {
   "cell_type": "markdown",
   "metadata": {},
   "source": [
    "* 事前の信念を表すために、$\\theta ^ a (1-\\theta) ^ b$を含む確率密度関数を求める。\n",
    "    * この形式で表せると、コインを一度投げたベルヌーイ尤度$\\theta^y (1-\\theta)^{1-y}$をかければ$\\theta^{(y+a)} (1-\\theta)^{(1-y+b)}$となり、同じ形の関数を得ることができる。\n",
    "* この形の確率密度はベータ分布と呼ばれる。\n",
    "\n",
    "$$\n",
    "p(\\theta|a,b) = beta(\\theta|a,b) = \\frac{\\theta^{(a-1)}(1-\\theta)^{(b-1)}}{B(a,b)} \\tag{6.3,p130}\n",
    "$$\n",
    "\n",
    "+ $B(a,b)$ : ベータ密度関数の範囲を積分して$1.0$にするための正規化定数\n",
    "    * $a$と$b$で一意に決まる値\n",
    "\n",
    "$$\n",
    "B(a,b) = \\int^{1}_{0} \\theta^{a-1} (1-\\theta)^{b-1} \\mathrm{d}\\theta \\tag{6.4,p130}\n",
    "$$"
   ]
  },
  {
   "cell_type": "markdown",
   "metadata": {
    "slideshow": {
     "slide_type": "slide"
    }
   },
   "source": [
    "* ベータ分布の例\n",
    "    * $a$が大きくなれば右に移動、$b$が大きくなれば左に移動\n",
    "    * $a$と$b$が共に大きくなると尖っていく\n",
    "    * $a$と$b$は形状バラメータ\n",
    "<img src=\"./img/fig6_1.png\">"
   ]
  },
  {
   "cell_type": "markdown",
   "metadata": {
    "slideshow": {
     "slide_type": "slide"
    }
   },
   "source": [
    "### 6.2.1. ベータ事前分布の指定\n",
    "+ $\\theta$に関する事前分布の信念を記述するベータ分布を指定する\n",
    "* 事前分布の$a$と$b$は事前に観測されたデータとして、合計$n=a+b$回のコイン投げで表が$a$回、裏が$b$回出たものと考えられる。\n",
    "+ 事前知識の程度によって、$a$と$b$を調整する。\n",
    "    + コインに表裏があるという以上の事前知識がない場合\n",
    "        + 表が1回と裏が1回事前に観測された（$a=1,b=1$)ことと同じ。この時ベータ分布は一様分布。\n",
    "    * コインがおそらく公平だが、確信が持てない場合\n",
    "        * 事前に観測されたデータを$a=4,b=4$というように想定することができる。\n",
    "            * $\\theta=0.5$で最大となるが、他の値にもほどほどになりうる"
   ]
  },
  {
   "cell_type": "markdown",
   "metadata": {},
   "source": [
    "* ここでの目標：事前信念を、中心傾向とサンプルサイズの観点で表し、それをベータ分布における$a$と$b$の値に変換すること\n",
    "* 例\n",
    "    * ある母集団において左利きの確率\n",
    "        + 中心傾向：経験から、およそ10%程度。\n",
    "        + サンプルサイズ：自信がなければ、サンプルサイズが小さく$n=10$ぐらいと考える。\n",
    "    * 政府が発行したコインが表になる確率\n",
    "        + 中心傾向：50％\n",
    "        + サンプルサイズ：ほぼ信じているのなら、$n=200$。事前に観測された200回のコイン投げのうち、100回が表だった。"
   ]
  },
  {
   "cell_type": "markdown",
   "metadata": {},
   "source": [
    "+ ベータ分布における中心傾向と広がりがどのようになるかを知る\n",
    "- ベータ分布は\n",
    "$$\n",
    "p(\\theta|a,b) = beta(\\theta|a,b) = \\frac{\\theta^{(a-1)}(1-\\theta)^{(b-1)}}{B(a,b)} \\tag{6.3,p130}\n",
    "$$\n",
    "- 平均値は\n",
    "$$\n",
    "\\mu = \\frac{a}{a+b}\n",
    "$$\n",
    "- 最頻値は\n",
    "$$\n",
    "\\omega = \\frac{a-1}{a+b-2}\n",
    "$$\n",
    "    * $a=b$であれば、平均値、最頻値は$0.5$\n",
    "- 集中度:ベータ分布の広がり\n",
    "$$\n",
    "\\kappa = a + b\n",
    "$$\n",
    "* 集中度が大きくなるにつれて、ベータ分布は狭く、あるいはより集中する。\n",
    "    * 図6.1の対角線上を確認"
   ]
  },
  {
   "cell_type": "markdown",
   "metadata": {},
   "source": [
    "* 前述の式を元にすると、平均値$\\mu$、最頻値$\\omega$、集中度$\\kappa$を元に$a,b$を求めることができる。\n",
    "\n",
    "$$a = \\mu \\kappa  かつ b = (1-\\mu)\\kappa \\tag{6.5,p132}$$\n",
    "$$a = \\omega ( \\kappa - 2 ) + 1 かつ b=(1 - \\omega)(\\kappa-2) + 1 ただし \\kappa > 2 \\tag{6.6,p132}$$\n",
    "    \n",
    "* 事前分布として選ぶ値$\\kappa$は事前にコイン投げしたとみなす回数。\n",
    "    * $\\mu$に関する事前の信念を揺らがせるために必要なコイン投げ回数が数回で良いなら、事前の信念は小さな$\\kappa$で表される\n",
    "    + 多くのコイン投げが必要なら、事前の信念は大きな$\\kappa$で表す。\n",
    "+ 例\n",
    "    + コインが公平であると考えている（$\\mu=0.5$)が、あまりそうだと確信していないため、それまで8回投げたと想像していると仮定する（$\\kappa=8$)\n",
    "    + そのとき、上の式より、$a=b=4$。$\\theta=0.5$で最大値となる。"
   ]
  },
  {
   "cell_type": "markdown",
   "metadata": {},
   "source": [
    "* 最頻値を元にして、形状パラメータを定めることもできる\n",
    "    + 最頻値は平均値よりも直感的に理解できる。（最頻値は分布において最も高い値に到達する点のため、視覚的に理解するのが容易だから。）\n",
    "+ 平均値と標準偏差$\\sigma$を用いることでも可能。\n",
    "+ 式6.6を用いることが多いが、「$a<1$あるいは$b<1$もしくはその両方」あるいは「$\\kappa>2$であると確信できないとき」には式6.5を用いる"
   ]
  },
  {
   "cell_type": "markdown",
   "metadata": {},
   "source": [
    "## 6.3. 事後分布としてのベータ分布\n",
    "* ここまで、ベルヌーイ尤度関数に便利な事前分布（共役事前分布）を設定した。\n",
    "+ ベイズの公式を適用する際の事後分布がどうなるのか見ていく。\n",
    "+ N回コインを投げ、z回表が出たデータセットがあると仮定する。ベイズの公式に、ベルヌーイ尤度とベータ事前分布を代入すると下記。\n",
    "- ベルヌイ尤度\n",
    "$$\n",
    "\\begin{align}\n",
    " p(N,z|\\theta) &= \\theta^z(1-\\theta)^{(N-z)}\n",
    "\\end{align}\n",
    "$$\n",
    "- ベータ事前分布\n",
    "$$\n",
    "\\begin{align}\n",
    " p(\\theta)   &= \\frac{\\theta^{(a-1)}(1-\\theta)^{(b-1)}}{B(a,b)}\n",
    "\\end{align}\n",
    "$$\n",
    "- ベータ事後分布\n",
    "$$\n",
    "\\begin{align}\n",
    "p(\\theta|z,N) &= \\frac{p(z,N|\\theta)p(\\theta)}{p(z,N)} \\\\\n",
    "&= \\theta^z(1-\\theta)^{(N-z)}\\frac{\\theta^{(a-1)}(1-\\theta)^{(b-1)}}{B(a,b)}/p(z,N) \\\\\n",
    "&= \\frac {\\theta^z(1-\\theta)^{(N-z)}\\theta^{(a-1)}(1-\\theta)^{(b-1)}}{B(a,b)p(z,N)} \\\\\n",
    "&= \\frac {\\theta^{(z+a-1)}(1-\\theta)^{(N+b-z-1)}}{B(a,b)p(z,N)} \\\\\n",
    "&= \\frac {\\theta^{(z+a-1)}(1-\\theta)^{(N+b-z-1)}}{B(z+a,N-z+b)} \\tag{Normalization}\\\\\n",
    "&= beta(z+a, N-z+b)\n",
    "\\end{align}\n",
    "$$\n",
    "+ 最初の事前分布がベータ分布であれば、その更新後の事後分布も常にベータ分布"
   ]
  },
  {
   "cell_type": "markdown",
   "metadata": {},
   "source": [
    "### 6.3.1. 事後分布は事前分布と尤度を折衷したものである\n",
    "+ 事前確率はコインを$a+b$回投げ、$a$回表が出たとした。$N$回コインを投げて$z$回表が出た場合を考える。\n",
    "- 事前平均\n",
    "$$\n",
    "\\frac{a}{a+b}\n",
    "$$\n",
    "- 事後平均\n",
    "$$\n",
    "\\frac{z+a}{N+a+b}\n",
    "$$\n",
    "- 事後平均は代数的には、以下の加重平均に書き換えられる\n",
    "$$\n",
    "\\underbrace{ \\frac{z+a}{N+a+b} }_\\text{事後平均} = \n",
    "\\underbrace{ \\frac{z}{N} }_\\text{データ}\n",
    "\\underbrace{ \\frac{N}{N+a+b} }_\\text{重み付け}+\n",
    "\\underbrace{ \\frac{a}{a+b} }_\\text{事前平均}\n",
    "\\underbrace{ \\frac{a+b}{N+a+b} }_\\text{重み付け}\n",
    "$$\n",
    "+ コインを投げた回数$N$が増えれば増えるほど、事前分布の影響が小さくなり、事後平均がデータの比率に近くなることがわかる。"
   ]
  },
  {
   "cell_type": "markdown",
   "metadata": {},
   "source": [
    "## 6.4. 具体例\n",
    "### 6.4.1. ベータ分布として表される事前知識\n",
    "+ 20回中17回成功したような例を3つ見ていく。\n",
    "+ 政府発行コインの例\n",
    "+ 事前分布は、$\\omega=0.5$,$\\kappa=200$とする。(テキストとグラフの数値が一致してないので間違い？）\n",
    "+ コインを20回投げて17回表が出たとする。\n",
    "+ あまり変化しない。\n",
    "<img src=\"./img/fig6_4_1.png\">"
   ]
  },
  {
   "cell_type": "markdown",
   "metadata": {},
   "source": [
    "+ バスケのフリースローの例\n",
    "+ プロの選手は少なくとも50％、最高90％、最頻値75%の確率で成功させるという事前知識。$\\kappa=25$と設定。($\\kappa$の設定感覚はよくわからない)    \n",
    "+ 20回中17回成功した選手がいたとする。その選手の能力を推定する。\n",
    "* コインの例よりは事後分布は事前分布と変化する。\n",
    "<img src=\"./img/fig6_4_2.png\">"
   ]
  },
  {
   "cell_type": "markdown",
   "metadata": {},
   "source": [
    "+ 遠い惑星のロボットが新しい物質の調査をしている例\n",
    "+ 事前知識は2つの色青と緑が出現するということ\n",
    "+ その2つの色の出現確率を推定する\n",
    "+ ほぼ尤度関数と近くなる\n",
    "<img src=\"./img/fig6_4_3.png\">"
   ]
  },
  {
   "cell_type": "markdown",
   "metadata": {},
   "source": [
    "+ 「20回中17回○○が観測された」場合であっても、事前分布によって事後分布は異なる。\n",
    "+ 事前分布の$a$,$b$と尤度関数の$z$,$N$から事後分布の$a'$と$b'$が求められることがわかる。\n",
    "<img src=\"./img/fig6_4.png\">"
   ]
  },
  {
   "cell_type": "markdown",
   "metadata": {},
   "source": [
    "### 6.4.2. ベータ分布として表せられない事前知識\n",
    "+ 繰り返しとなるが、事前知識を表すベータ分布に用いた時の長所とは、事後分布が再び正確にベータ分布となり、それゆえにどれだけデータを加えても、事後分布の正確な表現や計算が常に行えること\n",
    "+ しかし、ベータ分布で表現できる事前知識には限界がある。\n",
    "+ 事前知識がベータ分布で表現できない場合には、事後分布を得るための別の方法を用いなければならない。\n",
    "+ 変なコインの例\n",
    "    + 2種類のコインを製造している会社。表が出やすい（75％）コイン、表が出にくい（25％）コイン。\n",
    "    + 事前知識は$\\theta=0.25$と$\\theta=0.75$に頂点を持つ二峰分布となる。（ベータ分布で表せない）\n",
    "    + そこで離散値のグリッドで事前知識を表現してみる。\n",
    "        + この場合、事前知識の表現方法は数学的に一意でない。そのためこれを実現する手法はいくつかある。\n",
    "+ 図6.5のようになる。（テキスト事前分布の縦軸の数値が間違えているか。積分しても1にならない）\n",
    "+ 3つの隆起は事前分布の2つの頂点と尤度の真ん中の頂点の折衷したものになる。\n",
    "<img src=\"./img/fig6_5.png\">"
   ]
  },
  {
   "cell_type": "markdown",
   "metadata": {},
   "source": [
    "# まとめ\n",
    "+ 数値による近似ではなく、解析的に数学のみを用いて、ベイズの公式を解くことができる場合について試した。\n",
    "    + 尤度が共役事前分布をもつことによって、事後分布と事前分布が同じ形の数式になるケースについて説明した。\n",
    "+ただ現実には、\n",
    "    + 単純な尤度関数のみが共役事前分布を持つ。現実問題に当てはめる複雑なモデル、尤度関数では、共役事前分布を持たない。\n",
    "    + 共役事前分布があったとしても、その形で事前知識を表現できるとは限らない。\n",
    "+ 現実にはマルコフ連鎖モンテカルロ法(MCMC)を用いることになる。"
   ]
  },
  {
   "cell_type": "markdown",
   "metadata": {
    "slideshow": {
     "slide_type": "slide"
    }
   },
   "source": [
    "* いらない\n",
    "## 6.3 事後分布としてのベータ分布\n",
    "\n",
    "- N回中z回表が観察されたデータの集合があると仮定して、\n",
    "- ベルヌイ尤度とベータ事前分布をベイズの公式に代入すると\n",
    "\n",
    " - ベータ事前分布\n",
    "$$\n",
    "\\begin{align}\n",
    " p(\\theta) &= beta(a, b)  \n",
    "\\end{align}\n",
    "$$\n",
    " - ベータ事後分布\n",
    "$$\n",
    "\\begin{align}\n",
    "p(\\theta|z,N) &= \\frac{p(z,N|\\theta)p(\\theta)}{p(z,N)} \\\\\n",
    "&= beta(z+a, N-z+b)\n",
    "\\end{align}\n",
    "$$\n",
    "<hr>\n",
    "- 事前分布\n",
    " - 確信度(事前分布)として、以下の信念\n",
    "   - 表が$a$ 回、\n",
    "   - 裏が$b$ 回\n",
    "- 事後分布\n",
    " - ベイズの公式から\n",
    "   - 表が、$z+a$ 回\n",
    "   - 裏が $N-z+b$ 回"
   ]
  },
  {
   "cell_type": "markdown",
   "metadata": {
    "slideshow": {
     "slide_type": "slide"
    }
   },
   "source": [
    "## 6.3.1 事後分布は事前分布と尤度を折衷したものである\n",
    "\n",
    "- 事前分布の平均\n",
    "$$\n",
    "\\mathbb{E}[beta(a,b)] = \\frac{a}{a+b}\n",
    "$$\n",
    "- 事後分布の平均\n",
    "$$\n",
    "\\mathbb{E}[beta(z+a,N-z+b)] = \\frac{z+a}{N+a+b}\n",
    "$$\n",
    "- 事後平均は代数的には、以下の重みづけの平均に書き換えられる\n",
    " - 事前分布 $\\frac{a}{a+b}$ \n",
    " - データの比率 $\\frac{z}{N}$ \n",
    "$$\n",
    "\\underbrace{ \\frac{z+a}{N+a+b} }_\\text{事後平均} = \n",
    "\\underbrace{ \\frac{z}{N} }_\\text{データ}\n",
    "\\underbrace{ \\frac{N}{N+a+b} }_\\text{重み付け}+\n",
    "\\underbrace{ \\frac{a}{a+b} }_\\text{事前平均}\n",
    "\\underbrace{ \\frac{a+b}{N+a+b} }_\\text{重み付け}\n",
    "$$"
   ]
  },
  {
   "cell_type": "markdown",
   "metadata": {
    "slideshow": {
     "slide_type": "slide"
    }
   },
   "source": [
    "* いらない\n",
    "\n",
    "## 6.1 尤度関数：ベルヌイ分布\n",
    "- 表で書くと\n",
    "<img src=\"data:image/png;base64,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\">\n",
    "<br>\n",
    "\n",
    "- Pythonで書くと\n",
    "\n",
    "```python\n",
    "def p(theta: float):\n",
    "    import random\n",
    "    if(random.random()<theta):\n",
    "        return 1\n",
    "    else:\n",
    "        return 0\n",
    "```\n",
    "\n",
    "- これでは数学的に扱うのが難しいので\n",
    " - うまいこと1つの数式で書くと\n",
    "$$\n",
    "p(y|\\theta) = \\theta^y(1-\\theta)^{(1-y)} \\tag{6.1, p128}\n",
    "$$"
   ]
  },
  {
   "cell_type": "code",
   "execution_count": null,
   "metadata": {},
   "outputs": [],
   "source": []
  },
  {
   "cell_type": "code",
   "execution_count": 1,
   "metadata": {
    "ExecuteTime": {
     "end_time": "2017-09-08T08:55:01.890601Z",
     "start_time": "2017-09-08T08:55:01.830433Z"
    },
    "slideshow": {
     "slide_type": "slide"
    }
   },
   "outputs": [
    {
     "name": "stdout",
     "output_type": "stream",
     "text": [
      "100回の試行 =  [1, 0, 1, 1, 1, 0, 1, 1, 1, 0, 0, 1, 0, 1, 0, 1, 1, 0, 1, 0, 0, 0, 0, 0, 1, 1, 1, 0, 0, 1, 1, 0, 0, 1, 1, 1, 0, 0, 1, 0, 0, 1, 0, 1, 1, 1, 0, 1, 0, 1, 0, 1, 0, 0, 0, 1, 0, 0, 0, 0, 1, 0, 0, 1, 1, 1, 0, 0, 1, 0, 0, 0, 1, 0, 0, 0, 0, 1, 0, 0, 0, 0, 0, 0, 0, 1, 0, 0, 1, 0, 0, 0, 1, 0, 1, 0, 0, 0, 1, 0]\n",
      "合計 =  41\n"
     ]
    }
   ],
   "source": [
    "# いらない？\n",
    "# ベルヌーイ分布\n",
    "def p(theta: float) -> int:\n",
    "    import random\n",
    "    if(random.random()<theta):\n",
    "        return 1\n",
    "    else:\n",
    "        return 0\n",
    "\n",
    "N = 100 # 試行回数\n",
    "theta = 0.4 # 表の確率\n",
    "list = [p(theta) for i in range(N)]\n",
    "print(\"100回の試行 = \"  ,list )\n",
    "print(\"合計 = \", sum(list) )"
   ]
  },
  {
   "cell_type": "code",
   "execution_count": 5,
   "metadata": {
    "ExecuteTime": {
     "end_time": "2017-09-08T08:55:03.372503Z",
     "start_time": "2017-09-08T08:55:01.891605Z"
    },
    "slideshow": {
     "slide_type": "slide"
    }
   },
   "outputs": [
    {
     "data": {
      "image/png": "[encoded data removed]",
      "text/plain": [
       "<Figure size 432x288 with 1 Axes>"
      ]
     },
     "metadata": {},
     "output_type": "display_data"
    }
   ],
   "source": [
    "# いらない？\n",
    "\n",
    "import numpy as np\n",
    "import matplotlib.pyplot as plt\n",
    "import seaborn as sns\n",
    "%matplotlib inline\n",
    "sns.set_style(\"darkgrid\")\n",
    "\n",
    "list = np.array(list)\n",
    "plt.bar([0,1], [list[list==0].size, list[list==1].size], tick_label=[\"Tail\",\"head\"] )\n",
    "plt.title(\"Trial=>{0}, theta={1}\".format(N, theta))\n",
    "plt.show()"
   ]
  },
  {
   "cell_type": "markdown",
   "metadata": {
    "slideshow": {
     "slide_type": "skip"
    }
   },
   "source": [
    "* いらない？\n",
    "\n",
    "## 6.1 尤度関数：ベルヌーイ分布\n",
    "- ベルヌーイ分布の平均、分散\n",
    "$$\n",
    "\\begin{align}\n",
    "Ber(\\theta) &= Bi(1,\\theta) \\\\\n",
    "\\mathbb{E}[Bi(1,\\theta)] &= \\theta \\\\\n",
    "\\mathbb{V}[Bi(1,\\theta)] &= \\theta(1-\\theta)\n",
    "\\end{align}\n",
    "$$"
   ]
  },
  {
   "cell_type": "markdown",
   "metadata": {
    "slideshow": {
     "slide_type": "slide"
    }
   },
   "source": [
    "## 6.1 尤度関数：ベルヌイ<span style=\"color:red\">尤度関数</span>\n",
    "\n",
    "- $N$回コイン投げをして、以下のように観測されたとする (そのうち表が$z$回)\n",
    " - 観察結果、$ y_1 y_2 \\dots y_N,\\space y_i  \\in \\{0,1\\} $\n",
    " - 例、表,裏,裏,表,裏,表,… => $1,0,0,1,0,1,\\dots$\n",
    "<hr>\n",
    "- それぞれの試行の確率は\n",
    " - $p(y_i|\\theta)$\n",
    "- それがN回繰り返されたときの確率は\n",
    " - $p(y_1y_2\\dots y_N|\\theta)$\n"
   ]
  },
  {
   "cell_type": "markdown",
   "metadata": {
    "slideshow": {
     "slide_type": "slide"
    }
   },
   "source": [
    "## 6.1 尤度関数：ベルヌイ<span style=\"color:red\">尤度関数</span>\n",
    "\n",
    "- $N$回コイン投げをして、以下のように観測されたとする (そのうち表が$z$回)\n",
    " - 観察結果、$y_1 y_2 \\dots y_N $\n",
    " - 例、表,裏,裏,表,裏,表,… => $1,0,0,1,0,1,\\dots$\n",
    "<hr>\n",
    "- それぞれの試行は、独立で、同時確率なので\n",
    " $$\n",
    " \\begin{align}\n",
    " p(y_1y_2\\dots y_N|\\theta) \n",
    " &=p(y_1|\\theta)p(y_2|\\theta)\\dots p(y_N|\\theta) \\\\\n",
    " &=\\theta^{y_1}(1-\\theta)^{(1-y_1)}\\theta^{y_2}(1-\\theta)^{(1-y_2)} \\dots \\theta^{y_N}(1-\\theta)^{(1-y_N)} \\\\\n",
    " &=\\theta^{y_1+y_2+ \\dots+ y_N}(1-\\theta)^{(N-y_1-y_2- \\dots -y_N)} \\\\\n",
    " &=\\theta^{z}(1-\\theta)^{(N-z)} \\tag{6.2,p129}\n",
    " \\end{align}\n",
    " $$"
   ]
  },
  {
   "cell_type": "markdown",
   "metadata": {
    "slideshow": {
     "slide_type": "slide"
    }
   },
   "source": [
    "## 6.1 尤度関数：ベルヌイ<span style=\"color:red\">尤度関数</span>\n",
    "\n",
    "- $N$回コイン投げをして、以下のように観測されたとする (そのうち表が$z$回)\n",
    " - 観察結果、$y_1 y_2 \\dots y_N $\n",
    "- この確率は、上記の観察結果が得られる確率\n",
    " $$\n",
    " p(y_1y_2\\dots y_N|\\theta)  =\\theta^{z}(1-\\theta)^{(N-z)} \\tag{6.2, p129}\n",
    " $$\n",
    "<hr>\n",
    "- p129 第2パラグラフ\n",
    " - ベイズ推論において、関数 $p(y|\\theta)$ は通常、データ$y$が明確で固定されたもの、** $\\theta$を不明確で変動するパラメータ**としてみなす \n",
    " - $p(y|\\theta)$ は通常、$\\theta$の**尤度関数**と呼ばれ、式6.2は**ベルヌーイ尤度関数**と呼ばれる\n",
    " - 全く同じ式が$\\theta$が固定され$y$が変動する場合には**ベルヌーイ分布**と呼ばれるので注意！ "
   ]
  },
  {
   "cell_type": "markdown",
   "metadata": {
    "slideshow": {
     "slide_type": "slide"
    }
   },
   "source": [
    "## 6.1 尤度関数：ベルヌイ<span style=\"color:red\">尤度関数</span>\n",
    "\n",
    "- $N$回コイン投げをして、以下のように観測されたとする (そのうち表が$z$回)\n",
    " - 観察結果、$y_1 y_2 \\dots y_N $\n",
    "- この確率は、上記の観察結果が得られる確率\n",
    " $$\n",
    " p(y_1y_2\\dots y_N|\\theta)  =\\theta^{z}(1-\\theta)^{(N-z)} \\tag{6.2, p129}\n",
    " $$\n",
    "<hr>\n",
    "- 「続わかりやすいパターン認識」p53\n",
    " - 上式の $p(y_1y_2 \\dots y_N|\\theta)$ はパラメータ$\\theta$の下で観察結果 $y_1y_2 \\dots y_N$ が得られる確率\n",
    " - しかし、$y_1 y_2 \\dots y_N$ が得られた後では、表の出た回数$z$は単なる定数となり、\n",
    "   - $p(y_1 y_2 \\dots y_N|\\theta)$ は$\\theta$の関数となる\n",
    " - https://www.slideshare.net/ksmzn/zokupata4-1st-43926819"
   ]
  },
  {
   "cell_type": "markdown",
   "metadata": {
    "slideshow": {
     "slide_type": "slide"
    }
   },
   "source": [
    "## 6.1 尤度関数：ベルヌイ<span style=\"color:red\">尤度関数</span>【参考】最尤推定法\n",
    "\n",
    "- $N$回コイン投げをして、以下のように観測されたとする (そのうち表が$z$回)\n",
    " - 観察結果、$y_1 y_2 \\dots y_N $\n",
    "- この確率は、上記の観察結果が得られる確率\n",
    " $$\n",
    " p(y_1y_2\\dots y_N|\\theta)  =\\theta^{z}(1-\\theta)^{(N-z)} \\tag{6.2, p129}\n",
    " $$\n",
    "<hr>\n",
    "- 上記の観察結果を得たとき、その観察結果が最も発生しやすい$\\theta$とは\n",
    " - 最尤原理「現実に我々が得た観察データは、確率最大のものが実現した結果である」\n",
    "   - $p(y_1 y_2 \\dots y_N|\\theta)$ を最大にする$\\theta$が最も尤もらしい \n",
    "   - 尤度 $L =  p(y_1y_2\\dots y_N|\\theta) = \\theta^{z}(1-\\theta)^{(N-z)}$\n",
    "   - 対数尤度 $log L = log( \\theta^{z}(1-\\theta)^{(N-z)} ) = zlog \\theta + (N-z)log(1-\\theta)$\n",
    "   - $\\theta$で微分して、$\\frac{dL}{d\\theta} = \\frac{z}{\\theta} - \\frac{N-z}{1-\\theta} = 0 \\rightarrow \\therefore \\space \\theta = \\frac{z}{N}$"
   ]
  },
  {
   "cell_type": "markdown",
   "metadata": {
    "slideshow": {
     "slide_type": "slide"
    }
   },
   "source": [
    "## 6.2 確信度の記述:ベータ分布\n",
    "\n",
    "- ベータ分布\n",
    "$$\n",
    "p(\\theta|a,b) = beta(\\theta|a,b) = \\frac{\\theta^{(a-1)}(1-\\theta)^{(b-1)}}{B(a,b)} \\tag{6.3,p130}\n",
    "$$\n",
    "<hr>\n",
    "- 事前分布として $beta(a,b)$を用いることは、以下の結果を事前に得ていことと同じ\n",
    " - コインを $a+b$ 回投げて\n",
    " - 表が $a$回\n",
    " - 裏が $b$回 \n",
    " - (事前知識がない場合には、$a=b=1$)!??"
   ]
  },
  {
   "cell_type": "markdown",
   "metadata": {
    "slideshow": {
     "slide_type": "slide"
    }
   },
   "source": [
    "## 6.2 確信度の記述:ベータ分布 (別の記述)\n",
    "\n",
    "- ベータ分布\n",
    "$$\n",
    "p(\\theta|a,b) = beta(\\theta|a,b) = \\frac{\\theta^{(a-1)}(1-\\theta)^{(b-1)}}{B(a,b)} \\tag{6.3,p130}\n",
    "$$\n",
    "<hr>\n",
    "- 事前分布として $beta(a,b)$を用いることは、以下の結果を事前に得ていことと同じ\n",
    " - コインを $a+b-2$ 回投げて \n",
    " - 表が $a-1$回 \n",
    " - 裏が $b-1$回\n",
    " - 参考\n",
    "   - https://www.slideshare.net/ksmzn/zokupata4-1st-43926819 p32"
   ]
  },
  {
   "cell_type": "markdown",
   "metadata": {
    "slideshow": {
     "slide_type": "slide"
    }
   },
   "source": [
    "## 6.2 確信度の記述:ベータ分布\n",
    "\n",
    "- ベータ分布\n",
    "$$\n",
    "p(\\theta|a,b) = beta(\\theta|a,b) = \\frac{\\theta^{(a-1)}(1-\\theta)^{(b-1)}}{B(a,b)} \\tag{6.3,p130}\n",
    "$$\n",
    "<hr>\n",
    "- 事前信念を$a$、$b$に吹き込む\n",
    " - 中心傾向 => ベータ分布の中心\n",
    " - 確実性 => ベータ分布の広がり"
   ]
  },
  {
   "cell_type": "code",
   "execution_count": 4,
   "metadata": {
    "ExecuteTime": {
     "end_time": "2017-09-08T08:55:04.757588Z",
     "start_time": "2017-09-08T08:55:03.375011Z"
    },
    "collapsed": true,
    "slideshow": {
     "slide_type": "skip"
    }
   },
   "outputs": [],
   "source": [
    "import numpy as np\n",
    "import scipy.stats as stats\n",
    "import matplotlib.pyplot as plt\n",
    "from __future__ import print_function\n",
    "from ipywidgets import interact, interactive, fixed, interact_manual\n",
    "import ipywidgets as widgets\n",
    "from IPython.display import display, Latex\n",
    "#from sympy import symbols, init_printing\n",
    "\n",
    "def f(a, b):\n",
    "    x = np.linspace(0,1, 100)\n",
    "    rv = stats.beta(a,b)\n",
    "    y = rv.pdf(x)\n",
    "    ave = a/(a+b)\n",
    "    mod = (a-1)/(a+b-2) if a+b!=2 else 0\n",
    "    var = a*b/((a+b)**2*(a+b-1))\n",
    "    pa, = plt.plot([ave,ave],[0,6], \"g--\")\n",
    "    pm, = plt.plot([mod,mod],[0,6], \"k--\")\n",
    "    plt.plot(x,y)\n",
    "    plt.xlim([0,1])\n",
    "    plt.ylim([0,6])\n",
    "    plt.xlabel(\"$\\\\theta$\")\n",
    "    plt.ylabel(\"Pr\")\n",
    "    plt.legend([pa,pm],[\"average\",\"mode\"])\n",
    "    plt.show()\n",
    "    display(Latex(\"$$beta({0},{1}) = \\\\theta^{{{2}}}(1-\\\\theta^{{{3}}})$$\".format(a,b,a-1,b-1)))\n",
    "    print(\"平均値 = {0:2.2f}\".format(ave))\n",
    "    print(\"最頻値 = {0:2.2f}\".format(mod))\n",
    "    print(\"分散   = {0:2.4f}\".format(var))"
   ]
  },
  {
   "cell_type": "code",
   "execution_count": 5,
   "metadata": {
    "ExecuteTime": {
     "end_time": "2017-09-08T08:55:05.316059Z",
     "start_time": "2017-09-08T08:55:04.759389Z"
    },
    "slideshow": {
     "slide_type": "slide"
    }
   },
   "outputs": [
    {
     "data": {
      "application/vnd.jupyter.widget-view+json": {
       "model_id": "1249b00bb0714a9aa4ed3ff184434b85"
      }
     },
     "metadata": {},
     "output_type": "display_data"
    }
   ],
   "source": [
    "interact(f, a=(1,20,1), b=(1,20,1));"
   ]
  },
  {
   "cell_type": "markdown",
   "metadata": {
    "slideshow": {
     "slide_type": "skip"
    }
   },
   "source": [
    "## 6.2 確信度の記述:ベータ分布\n",
    "\n",
    "- ベータ分布\n",
    "$$\n",
    "p(\\theta|a,b) = beta(\\theta|a,b) = \\frac{\\theta^{(a-1)}(1-\\theta)^{(b-1)}}{B(a,b)} \\tag{6.3,p130}\n",
    "$$\n",
    "<hr>\n",
    "- 事前分布として $beta(a,b)$を用いることは、以下の結果を事前に得ているのと同じ\n",
    " - （謎）コインを $a+b-1$ 回投げて\n",
    " - 表が $a-1$回\n",
    " - 裏が $b-1$回"
   ]
  },
  {
   "cell_type": "markdown",
   "metadata": {
    "slideshow": {
     "slide_type": "slide"
    }
   },
   "source": [
    "## 6.2 確信度の記述:ベータ分布\n",
    "\n",
    "- ベータ分布\n",
    "$$\n",
    "p(\\theta|a,b) = beta(\\theta|a,b) = \\frac{\\theta^{(a-1)}(1-\\theta)^{(b-1)}}{B(a,b)} \\tag{6.3,p130}\n",
    "$$\n",
    "<hr>\n",
    "- 平均\n",
    "$$\n",
    "\\mu = \\mathbb{E}[beta(a,b)] = \\frac{a}{a+b}\n",
    "$$\n",
    "- 最頻値\n",
    "$$\n",
    "mode[beta(a,b)] = \\frac{a-1}{a+b-2}\n",
    "$$\n",
    "- 分散\n",
    "$$\n",
    "\\sigma^2 = \\mathbb{V}[beta(a,b)] = \\frac{ab}{(a+b)^2(a+b-1)}\n",
    "$$"
   ]
  },
  {
   "cell_type": "markdown",
   "metadata": {
    "slideshow": {
     "slide_type": "slide"
    }
   },
   "source": [
    "## 6.2 確信度の記述:ベータ分布\n",
    "\n",
    "- ベータ分布\n",
    "$$\n",
    "p(\\theta|a,b) = beta(\\theta|a,b) = \\frac{\\theta^{(a-1)}(1-\\theta)^{(b-1)}}{B(a,b)} \\tag{6.3,p130}\n",
    "$$\n",
    "<hr>\n",
    "- 平均、分散から $a$ 、 $b$ を求めることもできる\n",
    "$$\n",
    "\\begin{align}\n",
    " a &= \\mu(\\frac{\\mu(1-\\mu)}{\\sigma^2} -1) \\\\\n",
    " b &= (1-\\mu)(\\frac{\\mu(1-\\mu)}{\\sigma^2}-1) \\tag{6.7, p133}\n",
    "\\end{align}\n",
    "$$"
   ]
  },
  {
   "cell_type": "markdown",
   "metadata": {
    "collapsed": true,
    "slideshow": {
     "slide_type": "skip"
    }
   },
   "source": [
    "- ベータ関数\n",
    "$$\n",
    "\\mathrm{B}(a,b) = \\int^{1}_{0} \\theta^{a-1} (1-\\theta)^{b-1} \\mathrm{d}t \\tag{6.4,p130}\n",
    "$$"
   ]
  },
  {
   "cell_type": "markdown",
   "metadata": {
    "slideshow": {
     "slide_type": "slide"
    }
   },
   "source": [
    "## 6.2 確信度の記述:ベータ分布\n",
    "- ベイズの公式は\n",
    "$$\n",
    "p(\\theta|y) = \\frac{p(y|\\theta)p(\\theta)}{p(y)} \\tag{5.7,p110}\n",
    "$$\n",
    "\n",
    "- 数学的な扱いやすさ\n",
    " - ベイズの公式において、以下が同じ形の関数だと便利\n",
    "   - 右辺の分子$p(y|\\theta)$と$p(\\theta)$の積\n",
    "   - 事前分布$p(\\theta)$\n",
    "   \n",
    " - 右辺の分母$p(y)$が解析的に解ける($\\int d\\theta p(y|\\theta)p(\\theta)$)\n",
    "\n",
    "- 事後分布 $p(\\theta)$ が事前分布 $p(y|\\theta)$ と同じ形であるとき\n",
    " - $p(\\theta)$ は $p(y|\\theta)$ の**共役事前分布**と呼ぶ\n"
   ]
  },
  {
   "cell_type": "markdown",
   "metadata": {
    "collapsed": true,
    "slideshow": {
     "slide_type": "skip"
    }
   },
   "source": [
    "- $\\theta$ に関する事前分布の信念を記述するベータ分布\n",
    "- 事前分布の $a$ と $b$ とは、\n",
    " - 事前に観測されたデータとして表が $a$ 回、裏が $b$ 回でたもの\n",
    " \n",
    " - 例えば\n",
    "   - 表が1回、裏が1回だと $p(\\theta|1,1) = 1$ (一様分布)\n",
    "   - 表が4回、裏が4回だと $p(\\theta|4,4) \\propto \\theta^3(1-\\theta)^3$\n",
    "<br><BR>\n",
    "- ベータ分布の広がり(**集中度**)\n",
    " - 集中度 $\\kappa = a + b$\n"
   ]
  },
  {
   "cell_type": "code",
   "execution_count": 6,
   "metadata": {
    "ExecuteTime": {
     "end_time": "2017-09-08T08:55:05.402797Z",
     "start_time": "2017-09-08T08:55:05.318065Z"
    },
    "collapsed": true,
    "slideshow": {
     "slide_type": "skip"
    }
   },
   "outputs": [],
   "source": [
    "import numpy as np\n",
    "import scipy.stats as stats\n",
    "import matplotlib.pyplot as plt\n",
    "from __future__ import print_function\n",
    "from ipywidgets import interact, interactive, fixed, interact_manual\n",
    "import ipywidgets as widgets\n",
    "from IPython.display import display, Latex\n",
    "\n",
    "N_widget = widgets.IntSlider(min=1, max=20, step=1, value=20)\n",
    "z_widget = widgets.IntSlider(min=1, max=20, step=1, value=10)\n",
    "\n",
    "def update_z_range(*args):\n",
    "    z_widget.max = N_widget.value\n",
    "    \n",
    "N_widget.observe(update_z_range, 'value')\n",
    "\n",
    "def f2(a, b, N, z):\n",
    "    x = np.linspace(0,1, 100)\n",
    "    rpr = stats.beta(a,b)\n",
    "    ypr = rpr.pdf(x)\n",
    "    rpo = stats.beta(z+a, N-z+b)\n",
    "    ypo = rpo.pdf(x)\n",
    "    lik = x**z*(1-x)**(N-z)*500\n",
    "    plt.plot(x,ypr, '--')\n",
    "    plt.plot(x,lik, ':')\n",
    "    plt.plot(x,ypo)\n",
    "    plt.xlim([0,1])\n",
    "    plt.ylim([0,8])\n",
    "    plt.xlabel(\"$\\\\theta$\")\n",
    "    plt.ylabel(\"Pr\")\n",
    "    plt.legend([\"prior\",\"liklihood\", \"poster\"])\n",
    "    plt.show()\n",
    "    print(\"事前分布の平均 E[beta({0},{1})] = {2:2.2f}\".format(a, b, a/(a+b)) )\n",
    "    print(\"事後分布の平均 E[beta({0},{1})] = {2:2.2f}\".format(z+a,N-z+b, (z+a)/(N+a+b)))"
   ]
  },
  {
   "cell_type": "code",
   "execution_count": 7,
   "metadata": {
    "ExecuteTime": {
     "end_time": "2017-09-08T08:55:05.670529Z",
     "start_time": "2017-09-08T08:55:05.406807Z"
    },
    "slideshow": {
     "slide_type": "slide"
    }
   },
   "outputs": [
    {
     "data": {
      "application/vnd.jupyter.widget-view+json": {
       "model_id": "d52f1ee4fa554928af1d6fadb9e20221"
      }
     },
     "metadata": {},
     "output_type": "display_data"
    }
   ],
   "source": [
    "interact(f2, a=(1,20,1), b=(1,20,1), N=N_widget, z=z_widget);"
   ]
  },
  {
   "cell_type": "markdown",
   "metadata": {
    "collapsed": true,
    "slideshow": {
     "slide_type": "slide"
    }
   },
   "source": [
    "## 6.4 具体例\n",
    "### 6.4.1 ベータ分布としてあらわされる事前分布"
   ]
  },
  {
   "cell_type": "code",
   "execution_count": 8,
   "metadata": {
    "ExecuteTime": {
     "end_time": "2017-09-08T08:55:05.691591Z",
     "start_time": "2017-09-08T08:55:05.673537Z"
    },
    "collapsed": true,
    "slideshow": {
     "slide_type": "skip"
    }
   },
   "outputs": [],
   "source": [
    "import numpy as np\n",
    "import scipy.stats as stats\n",
    "import matplotlib.pyplot as plt\n",
    "from IPython.display import display, Latex\n",
    "\n",
    "def ex1():\n",
    "    print(\"\"\"\n",
    "    例1)\n",
    "    政府が新しく発行した代り映えしないコイン\n",
    "    事前分布:コインを20回投げて、表が17回(85%)\n",
    "    尤度：N=200, z=100\"\n",
    "    \"\"\")\n",
    "    a, b = 17, 3\n",
    "    N, z = 200, 100\n",
    "    x = np.linspace(0,1, 100)\n",
    "    rpr = stats.beta(a,b)\n",
    "    ypr = rpr.pdf(x)\n",
    "    rpo = stats.beta(z+a, N-z+b)\n",
    "    ypo = rpo.pdf(x)\n",
    "    lik = x**z*(1-x)**(N-z)*2e61\n",
    "    plt.plot(x,ypr, '--')\n",
    "    plt.plot(x,lik, ':')\n",
    "    plt.plot(x,ypo)\n",
    "    plt.xlim([0,1])\n",
    "    plt.ylim([0,20])\n",
    "    plt.xlabel(\"$\\\\theta$\")\n",
    "    plt.ylabel(\"Pr\")\n",
    "    plt.legend([\"prior\",\"liklihood\", \"poster\"])\n",
    "    plt.show()\n",
    "    print(\"事前分布の平均 E[beta({0},{1})] = {2:2.2f}\".format(a, b, a/(a+b)) )\n",
    "    print(\"事後分布の平均 E[beta({0},{1})] = {2:2.2f}\".format(z+a,N-z+b, (z+a)/(N+a+b)))"
   ]
  },
  {
   "cell_type": "code",
   "execution_count": 9,
   "metadata": {
    "ExecuteTime": {
     "end_time": "2017-09-08T08:55:05.959321Z",
     "start_time": "2017-09-08T08:55:05.693596Z"
    },
    "slideshow": {
     "slide_type": "subslide"
    }
   },
   "outputs": [
    {
     "name": "stdout",
     "output_type": "stream",
     "text": [
      "\n",
      "    例1)\n",
      "    政府が新しく発行した代り映えしないコイン\n",
      "    事前分布:コインを20回投げて、表が17回(85%)\n",
      "    尤度：N=200, z=100\"\n",
      "    \n"
     ]
    },
    {
     "data": {
      "image/png": "[encoded data removed]",
      "text/plain": [
       "<matplotlib.figure.Figure at 0x171ad8f55f8>"
      ]
     },
     "metadata": {},
     "output_type": "display_data"
    },
    {
     "name": "stdout",
     "output_type": "stream",
     "text": [
      "事前分布の平均 E[beta(17,3)] = 0.85\n",
      "事後分布の平均 E[beta(117,103)] = 0.53\n"
     ]
    }
   ],
   "source": [
    "ex1()"
   ]
  },
  {
   "cell_type": "code",
   "execution_count": 10,
   "metadata": {
    "ExecuteTime": {
     "end_time": "2017-09-08T08:55:05.984893Z",
     "start_time": "2017-09-08T08:55:05.961326Z"
    },
    "collapsed": true,
    "slideshow": {
     "slide_type": "skip"
    }
   },
   "outputs": [],
   "source": [
    "import numpy as np\n",
    "import scipy.stats as stats\n",
    "import matplotlib.pyplot as plt\n",
    "from IPython.display import display, Latex\n",
    "\n",
    "def ex2():\n",
    "    print(\"\"\"\n",
    "    例2)\n",
    "    プロバスケットボールのフリースローの成功率\n",
    "    尤度:20回中17回成功させる選手のフリースローを観測\n",
    "    事前分布：少なくても50%、最高だと90%、おおよそ75% => 最頻値＝0.75, a+b=25のベータ分布で表現\n",
    "    \"\"\")\n",
    "    a, b = 18.25, 6.75\n",
    "    N, z = 20, 17\n",
    "    x = np.linspace(0,1, 100)\n",
    "    rpr = stats.beta(a,b)\n",
    "    ypr = rpr.pdf(x)\n",
    "    rpo = stats.beta(z+a, N-z+b)\n",
    "    ypo = rpo.pdf(x)\n",
    "    lik = x**z*(1-x)**(N-z)*2e4\n",
    "    plt.plot(x,ypr, '--')\n",
    "    plt.plot(x,lik, ':')\n",
    "    plt.plot(x,ypo)\n",
    "    plt.xlim([0,1])\n",
    "    plt.ylim([0,10])\n",
    "    plt.xlabel(\"$\\\\theta$\")\n",
    "    plt.ylabel(\"Pr\")\n",
    "    plt.legend([\"prior\",\"liklihood\", \"poster\"])\n",
    "    plt.show()\n",
    "    print(\"事前分布の平均 E[beta({0},{1})] = {2:2.2f}\".format(a, b, a/(a+b)) )\n",
    "    print(\"事後分布の平均 E[beta({0},{1})] = {2:2.2f}\".format(z+a,N-z+b, (z+a)/(N+a+b)))"
   ]
  },
  {
   "cell_type": "code",
   "execution_count": 11,
   "metadata": {
    "ExecuteTime": {
     "end_time": "2017-09-08T08:55:06.224051Z",
     "start_time": "2017-09-08T08:55:05.990908Z"
    },
    "scrolled": false,
    "slideshow": {
     "slide_type": "subslide"
    }
   },
   "outputs": [
    {
     "name": "stdout",
     "output_type": "stream",
     "text": [
      "\n",
      "    例2)\n",
      "    プロバスケットボールのフリースローの成功率\n",
      "    尤度:20回中17回成功させる選手のフリースローを観測\n",
      "    事前分布：少なくても50%、最高だと90%、おおよそ75% => 最頻値＝0.75, a+b=25のベータ分布で表現\n",
      "    \n"
     ]
    },
    {
     "data": {
      "image/png": "[encoded data removed]",
      "text/plain": [
       "<matplotlib.figure.Figure at 0x171ad8c3358>"
      ]
     },
     "metadata": {},
     "output_type": "display_data"
    },
    {
     "name": "stdout",
     "output_type": "stream",
     "text": [
      "事前分布の平均 E[beta(18.25,6.75)] = 0.73\n",
      "事後分布の平均 E[beta(35.25,9.75)] = 0.78\n"
     ]
    }
   ],
   "source": [
    "ex2()"
   ]
  },
  {
   "cell_type": "code",
   "execution_count": 12,
   "metadata": {
    "ExecuteTime": {
     "end_time": "2017-09-08T08:55:06.242099Z",
     "start_time": "2017-09-08T08:55:06.225052Z"
    },
    "collapsed": true,
    "slideshow": {
     "slide_type": "skip"
    }
   },
   "outputs": [],
   "source": [
    "import numpy as np\n",
    "import scipy.stats as stats\n",
    "import matplotlib.pyplot as plt\n",
    "from IPython.display import display, Latex\n",
    "\n",
    "def ex3():\n",
    "    print(\"\"\"\n",
    "    例3)\n",
    "    新しく物質を発見するした、色は青か緑か、青色の確率 \n",
    "    事前分布:情報なし\n",
    "    尤度：20個中17個が青色であった\n",
    "    \"\"\")\n",
    "    a, b = 1, 1\n",
    "    N, z = 20, 17\n",
    "    x = np.linspace(0,1, 100)\n",
    "    rpr = stats.beta(a,b)\n",
    "    ypr = rpr.pdf(x)\n",
    "    rpo = stats.beta(z+a, N-z+b)\n",
    "    ypo = rpo.pdf(x)\n",
    "    lik = x**z*(1-x)**(N-z)*1e5\n",
    "    plt.plot(x,ypr, '--')\n",
    "    plt.plot(x,lik, ':')\n",
    "    plt.plot(x,ypo)\n",
    "    plt.xlim([0,1])\n",
    "    plt.ylim([0,20])\n",
    "    plt.xlabel(\"$\\\\theta$\")\n",
    "    plt.ylabel(\"Pr\")\n",
    "    plt.legend([\"prior\",\"liklihood\", \"poster\"])\n",
    "    plt.show()\n",
    "    print(\"事前分布の平均 E[beta({0},{1})] = {2:2.2f}\".format(a, b, a/(a+b)) )\n",
    "    print(\"事後分布の平均 E[beta({0},{1})] = {2:2.2f}\".format(z+a,N-z+b, (z+a)/(N+a+b)))"
   ]
  },
  {
   "cell_type": "code",
   "execution_count": 13,
   "metadata": {
    "ExecuteTime": {
     "end_time": "2017-09-08T08:55:06.491782Z",
     "start_time": "2017-09-08T08:55:06.244103Z"
    },
    "slideshow": {
     "slide_type": "subslide"
    }
   },
   "outputs": [
    {
     "name": "stdout",
     "output_type": "stream",
     "text": [
      "\n",
      "    例3)\n",
      "    新しく物質を発見するした、色は青か緑か、青色の確率 \n",
      "    事前分布:情報なし\n",
      "    尤度：20個中17個が青色であった\n",
      "    \n"
     ]
    },
    {
     "data": {
      "image/png": "[encoded data removed]",
      "text/plain": [
       "<matplotlib.figure.Figure at 0x171ad79eac8>"
      ]
     },
     "metadata": {},
     "output_type": "display_data"
    },
    {
     "name": "stdout",
     "output_type": "stream",
     "text": [
      "事前分布の平均 E[beta(1,1)] = 0.50\n",
      "事後分布の平均 E[beta(18,4)] = 0.82\n"
     ]
    }
   ],
   "source": [
    "ex3()"
   ]
  },
  {
   "cell_type": "markdown",
   "metadata": {
    "slideshow": {
     "slide_type": "skip"
    }
   },
   "source": [
    "## ベイズの公式\n",
    "\n",
    "$$\n",
    "p(\\theta|D) = \\frac{p(D|\\theta)p(\\theta)}{p(D)} \\tag{5.7,p110}\n",
    "$$"
   ]
  }
 ],
 "metadata": {
  "celltoolbar": "Slideshow",
  "kernelspec": {
   "display_name": "Python 3",
   "language": "python",
   "name": "python3"
  },
  "language_info": {
   "codemirror_mode": {
    "name": "ipython",
    "version": 3
   },
   "file_extension": ".py",
   "mimetype": "text/x-python",
   "name": "python",
   "nbconvert_exporter": "python",
   "pygments_lexer": "ipython3",
   "version": "3.6.3"
  },
  "toc": {
   "colors": {
    "hover_highlight": "#DAA520",
    "navigate_num": "#000000",
    "navigate_text": "#333333",
    "running_highlight": "#FF0000",
    "selected_highlight": "#FFD700",
    "sidebar_border": "#EEEEEE",
    "wrapper_background": "#FFFFFF"
   },
   "moveMenuLeft": true,
   "nav_menu": {
    "height": "44px",
    "width": "252px"
   },
   "navigate_menu": true,
   "number_sections": true,
   "sideBar": true,
   "threshold": 4,
   "toc_cell": false,
   "toc_position": {
    "height": "625px",
    "left": "0px",
    "right": "900px",
    "top": "66px",
    "width": "277px"
   },
   "toc_section_display": "block",
   "toc_window_display": false,
   "widenNotebook": false
  },
  "varInspector": {
   "cols": {
    "lenName": 16,
    "lenType": 16,
    "lenVar": 40
   },
   "kernels_config": {
    "python": {
     "delete_cmd_postfix": "",
     "delete_cmd_prefix": "del ",
     "library": "var_list.py",
     "varRefreshCmd": "print(var_dic_list())"
    },
    "r": {
     "delete_cmd_postfix": ") ",
     "delete_cmd_prefix": "rm(",
     "library": "var_list.r",
     "varRefreshCmd": "cat(var_dic_list()) "
    }
   },
   "types_to_exclude": [
    "module",
    "function",
    "builtin_function_or_method",
    "instance",
    "_Feature"
   ],
   "window_display": false
  }
 },
 "nbformat": 4,
 "nbformat_minor": 2
}
