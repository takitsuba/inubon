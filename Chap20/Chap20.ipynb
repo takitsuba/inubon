{
 "cells": [
  {
   "cell_type": "markdown",
   "metadata": {},
   "source": [
    "# 20章 複数の名義変数で量的変数を予測する"
   ]
  },
  {
   "cell_type": "markdown",
   "metadata": {},
   "source": [
    "## はじめに\n",
    "- 本章では、\n",
    "    - 1つの量的被予測変数\n",
    "    - 2つ（以上）の名義予測変数\n",
    "\n",
    "からなるデータ構造について考える。\n",
    "    \n",
    "- この種のデータ構造に対する伝統的な手法は「多要因分散分析(ANOVA)」\n",
    "- ベイジアンアプローチはANOVAモデルの階層的一般化になる。\n",
    "- 本章の状況は\n",
    "    - 複数の名義予測変数の線形関数について、\n",
    "    - データにおけるノイズを記述するための正規分布をリンク関数\n",
    "\n",
    "としたもの"
   ]
  },
  {
   "cell_type": "markdown",
   "metadata": {},
   "source": [
    "## 20.1. 複数の名義予測変数を伴う量的データ群を記述する"
   ]
  },
  {
   "cell_type": "markdown",
   "metadata": {},
   "source": [
    "- 2つの名義予測変数で、1つの量的被予測変数を記述する事を考える。\n",
    "- 前章同様。\n",
    "- 名義予測変数は$\\vec{x}_{1}$等で表され、$j$番目の水準からのデータは$x_{1[j]}$\n",
    "- 被予測変数は、\n",
    "    - ベースライン +\n",
    "    - 要因1の水準による偏向パラメータ + \n",
    "    - 要因2の水準による偏向パラメータ　+\n",
    "    - 要因の交互作用による残差の偏向パラメータ\n",
    "$$\n",
    "\\begin{aligned} \\mu &=\\beta_{0}+\\vec{\\beta}_{1} \\cdot \\vec{x}_{1}+\\vec{\\beta}_{2} \\cdot \\vec{x}_{2}+\\vec{\\beta}_{1 \\times 2} \\cdot \\vec{x}_{1 \\times 2} \\\\ &=\\beta_{0}+\\sum_{j} \\beta_{1[j]} x_{1[j]}+\\sum_{k} \\beta_{2[k]} x_{2[k]}+\\sum_{j, k} \\beta_{1 \\times 2[j, k]} x_{1 \\times 2[j, k]} \\end{aligned}\n",
    "$$"
   ]
  },
  {
   "cell_type": "markdown",
   "metadata": {},
   "source": [
    "- 要因ごとの偏向パラメータと、交互作用ごとの偏向パラメータは、足して0になるように制約　\n",
    "$$\n",
    "\\begin{array}{c}{\\sum_{j} \\beta_{1[j]}=0 \\quad \\text { and } \\quad \\sum_{k} \\beta_{2[k]}=0 \\text { and }} \\\\ {\\sum_{j} \\beta_{1 \\times 2[j, k]}=0 \\text { for all } k \\quad \\text { and } \\quad \\sum_{k} \\beta_{1 \\times 2[j, k]}=0 \\text { for all } j}\\end{array}\n",
    "$$"
   ]
  },
  {
   "cell_type": "markdown",
   "metadata": {},
   "source": [
    "### 20.1.1. 交互作用"
   ]
  },
  {
   "cell_type": "markdown",
   "metadata": {},
   "source": [
    "- 交互作用とは、ある予測変数の効果が他の予測変数の水準に依存すること\n",
    "    - 交互作用は要因の主効果（上の式の$\\beta_1$や$\\beta_2$)を加算した後に残るもの\n",
    "    - 交互作用は要因の非加法的な影響"
   ]
  },
  {
   "cell_type": "markdown",
   "metadata": {},
   "source": [
    "<img src=\"img/fig20_1.png\">\n",
    "\n",
    "- 左端から、(x1,x2) = (1,1)(1,2)(2,1)(2,2)\n",
    "- それぞれのカテゴリの平均を図示（実際のデータは図19.1のようにバラけている）\n",
    "- 3つの図は補助線が異なるだけで、値は一緒\n",
    "- ベースラインは４つの平均になるので、5であることはわかる。"
   ]
  },
  {
   "cell_type": "markdown",
   "metadata": {},
   "source": [
    "- 同じ図\n",
    "<img src=\"img/fig20_1.png\">\n",
    "- x1の水準1の偏向パラメータは$-1.8$, 水準2の偏向パラメータは$1.8$。\n",
    "    - 言い換えると、左２つの平均より右２つの平均は３．６高い\n",
    "- x2の水準1の偏向パラメータは$０．２$, 水準2の偏向パラメータは$-０．２$。\n",
    "    - 言い換えると青の平均よりグレーの平均は0.4低い\n",
    "- この２つの効果のみ（要因の効果が加法的）である場合は、左図破線の平行四辺形の頂点がそれぞれのバーの高さになる。\n",
    "- 左図に描かれた上下方向の矢印が非加法的な成分。\n",
    "    - x1,x2のそれぞれの水準のなかでは、交互作用成分を足すと０になる。\n",
    "    - 左２つのバーの矢印を足すとゼロ。右２つもゼロ。青２つもゼロ。グレー２つもゼロ。\n",
    "    - これらのゼロ和属性は式20.2で表されている。"
   ]
  },
  {
   "cell_type": "markdown",
   "metadata": {},
   "source": [
    "- では偏向パラメータ"
   ]
  }
 ],
 "metadata": {
  "kernelspec": {
   "display_name": "Python 3",
   "language": "python",
   "name": "python3"
  },
  "language_info": {
   "codemirror_mode": {
    "name": "ipython",
    "version": 3
   },
   "file_extension": ".py",
   "mimetype": "text/x-python",
   "name": "python",
   "nbconvert_exporter": "python",
   "pygments_lexer": "ipython3",
   "version": "3.6.6"
  }
 },
 "nbformat": 4,
 "nbformat_minor": 2
}
